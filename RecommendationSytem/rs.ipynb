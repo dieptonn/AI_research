{
 "cells": [
  {
   "cell_type": "code",
   "execution_count": 41,
   "metadata": {},
   "outputs": [],
   "source": [
    "# Importing Libraries\n",
    "import numpy as np #type: ignore\n",
    "import pandas as pd #type: ignore\n",
    "import sklearn #type: ignore\n",
    "import sys\n",
    "import matplotlib.pyplot as plt #type: ignore\n",
    "import seaborn as sns #type: ignore\n",
    "import warnings\n",
    "warnings.simplefilter(action='ignore', category=FutureWarning)\n"
   ]
  },
  {
   "cell_type": "markdown",
   "metadata": {},
   "source": [
    "Load dữ liệu từ các tệp csv"
   ]
  },
  {
   "cell_type": "code",
   "execution_count": 42,
   "metadata": {},
   "outputs": [
    {
     "name": "stdout",
     "output_type": "stream",
     "text": [
      "   userId  movieId  rating  timestamp\n",
      "0       1        1     4.0  964982703\n",
      "1       1        3     4.0  964981247\n",
      "2       1        6     4.0  964982224\n",
      "3       1       47     5.0  964983815\n",
      "4       1       50     5.0  964982931\n"
     ]
    }
   ],
   "source": [
    "#loading rating dataset\n",
    "ratings = pd.read_csv(\"https://s3-us-west-2.amazonaws.com/recommender-tutorial/ratings.csv\")\n",
    "print(ratings.head())\n"
   ]
  },
  {
   "cell_type": "code",
   "execution_count": 43,
   "metadata": {},
   "outputs": [
    {
     "name": "stdout",
     "output_type": "stream",
     "text": [
      "   movieId                               title  \\\n",
      "0        1                    Toy Story (1995)   \n",
      "1        2                      Jumanji (1995)   \n",
      "2        3             Grumpier Old Men (1995)   \n",
      "3        4            Waiting to Exhale (1995)   \n",
      "4        5  Father of the Bride Part II (1995)   \n",
      "\n",
      "                                        genres  \n",
      "0  Adventure|Animation|Children|Comedy|Fantasy  \n",
      "1                   Adventure|Children|Fantasy  \n",
      "2                               Comedy|Romance  \n",
      "3                         Comedy|Drama|Romance  \n",
      "4                                       Comedy  \n"
     ]
    }
   ],
   "source": [
    "# loading movie dataset\n",
    "movies = pd.read_csv(\"https://s3-us-west-2.amazonaws.com/recommender-tutorial/movies.csv\")\n",
    "print(movies.head())\n"
   ]
  },
  {
   "cell_type": "markdown",
   "metadata": {},
   "source": [
    "Phân tích thống kê"
   ]
  },
  {
   "cell_type": "code",
   "execution_count": 44,
   "metadata": {},
   "outputs": [
    {
     "name": "stdout",
     "output_type": "stream",
     "text": [
      "Number of ratings: 100836\n",
      "Number of unique movieId's: 9724\n",
      "Number of unique users: 610\n",
      "Average ratings per user: 165.3\n",
      "Average ratings per movie: 10.37\n"
     ]
    }
   ],
   "source": [
    "n_ratings = len(ratings)\n",
    "n_movies = len(ratings['movieId'].unique())\n",
    "n_users = len(ratings['userId'].unique())\n",
    "\n",
    "print(f\"Number of ratings: {n_ratings}\")\n",
    "print(f\"Number of unique movieId's: {n_movies}\")\n",
    "print(f\"Number of unique users: {n_users}\")\n",
    "print(f\"Average ratings per user: {round(n_ratings/n_users, 2)}\")\n",
    "print(f\"Average ratings per movie: {round(n_ratings/n_movies, 2)}\")\n"
   ]
  },
  {
   "cell_type": "markdown",
   "metadata": {},
   "source": [
    "Tần suất đánh giá của người dùng"
   ]
  },
  {
   "cell_type": "code",
   "execution_count": 45,
   "metadata": {},
   "outputs": [
    {
     "name": "stdout",
     "output_type": "stream",
     "text": [
      "     userId  n_ratings\n",
      "0         1        232\n",
      "1         2         29\n",
      "2         3         39\n",
      "3         4        216\n",
      "4         5         44\n",
      "..      ...        ...\n",
      "605     606       1115\n",
      "606     607        187\n",
      "607     608        831\n",
      "608     609         37\n",
      "609     610       1302\n",
      "\n",
      "[610 rows x 2 columns]\n"
     ]
    }
   ],
   "source": [
    "user_freq = ratings[['userId', 'movieId']].groupby(\n",
    "\t'userId').count().reset_index()\n",
    "user_freq.columns = ['userId', 'n_ratings']\n",
    "# print(user_freq.head())\n",
    "print(user_freq)\n"
   ]
  },
  {
   "cell_type": "markdown",
   "metadata": {},
   "source": [
    "Phân tích xếp hạng phim"
   ]
  },
  {
   "cell_type": "code",
   "execution_count": 46,
   "metadata": {},
   "outputs": [
    {
     "name": "stdout",
     "output_type": "stream",
     "text": [
      "         count      mean\n",
      "movieId                 \n",
      "1          215  3.920930\n",
      "2          110  3.431818\n",
      "3           52  3.259615\n",
      "4            7  2.357143\n",
      "5           49  3.071429\n",
      "...        ...       ...\n",
      "193581       1  4.000000\n",
      "193583       1  3.500000\n",
      "193585       1  3.500000\n",
      "193587       1  3.500000\n",
      "193609       1  4.000000\n",
      "\n",
      "[9724 rows x 2 columns]\n"
     ]
    }
   ],
   "source": [
    "# Find Lowest and Highest rated movies:\n",
    "mean_rating = ratings.groupby('movieId')[['rating']].mean()\n",
    "# Lowest rated movies\n",
    "lowest_rated = mean_rating['rating'].idxmin()\n",
    "movies.loc[movies['movieId'] == lowest_rated]\n",
    "# Highest rated movies\n",
    "highest_rated = mean_rating['rating'].idxmax()\n",
    "movies.loc[movies['movieId'] == highest_rated]\n",
    "# show number of people who rated movies rated movie highest\n",
    "ratings[ratings['movieId']==highest_rated]\n",
    "# show number of people who rated movies rated movie lowest\n",
    "ratings[ratings['movieId']==lowest_rated]\n",
    "\n",
    "## the above movies has very low dataset. We will use bayesian average\n",
    "movie_stats = ratings.groupby('movieId')[['rating']].agg(['count', 'mean'])\n",
    "movie_stats.columns = movie_stats.columns.droplevel()\n",
    "\n",
    "print(movie_stats)"
   ]
  },
  {
   "cell_type": "markdown",
   "metadata": {},
   "source": [
    "Tạo ma trận User-item"
   ]
  },
  {
   "cell_type": "code",
   "execution_count": 47,
   "metadata": {},
   "outputs": [
    {
     "name": "stdout",
     "output_type": "stream",
     "text": [
      "[[4.  0.  0.  ... 2.5 3.  5. ]\n",
      " [0.  0.  0.  ... 2.  0.  0. ]\n",
      " [4.  0.  0.  ... 2.  0.  0. ]\n",
      " ...\n",
      " [0.  0.  0.  ... 0.  0.  0. ]\n",
      " [0.  0.  0.  ... 0.  0.  0. ]\n",
      " [0.  0.  0.  ... 0.  0.  0. ]]\n"
     ]
    }
   ],
   "source": [
    "# Now, we create user-item matrix using scipy csr matrix\n",
    "from scipy.sparse import csr_matrix #type: ignore\n",
    "\n",
    "def create_matrix(df):\n",
    "\t\n",
    "\tN = len(df['userId'].unique())\n",
    "\tM = len(df['movieId'].unique())\n",
    "\t\n",
    "\t# Map Ids to indices\n",
    "\tuser_mapper = dict(zip(np.unique(df[\"userId\"]), list(range(N))))\n",
    "\tmovie_mapper = dict(zip(np.unique(df[\"movieId\"]), list(range(M))))\n",
    "\t\n",
    "\t# Map indices to IDs\n",
    "\tuser_inv_mapper = dict(zip(list(range(N)), np.unique(df[\"userId\"])))\n",
    "\tmovie_inv_mapper = dict(zip(list(range(M)), np.unique(df[\"movieId\"])))\n",
    "\t\n",
    "\tuser_index = [user_mapper[i] for i in df['userId']]\n",
    "\tmovie_index = [movie_mapper[i] for i in df['movieId']]\n",
    "\n",
    "\tX = csr_matrix((df[\"rating\"], (movie_index, user_index)), shape=(M, N))\n",
    "\t\n",
    "\treturn X, user_mapper, movie_mapper, user_inv_mapper, movie_inv_mapper\n",
    "\t\n",
    "X, user_mapper, movie_mapper, user_inv_mapper, movie_inv_mapper = create_matrix(ratings)\n",
    "\n",
    "print(X.toarray())\n"
   ]
  },
  {
   "cell_type": "markdown",
   "metadata": {},
   "source": [
    "Phân tích độ tương đồng của phim"
   ]
  },
  {
   "cell_type": "code",
   "execution_count": 48,
   "metadata": {},
   "outputs": [],
   "source": [
    "\"\"\"\n",
    "Find similar movies using KNN\n",
    "\"\"\"\n",
    "from sklearn.neighbors import NearestNeighbors #type: ignore\n",
    "\n",
    "def find_similar_movies(movie_id, X, k, metric='cosine', show_distance=False):\n",
    "\t\n",
    "\tneighbour_ids = []\n",
    "\t\n",
    "\tmovie_ind = movie_mapper[movie_id]\n",
    "\tmovie_vec = X[movie_ind]\n",
    "\tk+=1\n",
    "\tkNN = NearestNeighbors(n_neighbors=k, algorithm=\"brute\", metric=metric)\n",
    "\tkNN.fit(X)\n",
    "\tmovie_vec = movie_vec.reshape(1,-1)\n",
    "\tneighbour = kNN.kneighbors(movie_vec, return_distance=show_distance)\n",
    "\tfor i in range(0,k):\n",
    "\t\tn = neighbour.item(i)\n",
    "\t\tneighbour_ids.append(movie_inv_mapper[n])\n",
    "\tneighbour_ids.pop(0)\n",
    "\treturn neighbour_ids\n",
    "\n",
    "\n",
    "movie_titles = dict(zip(movies['movieId'], movies['title']))\n",
    "\n",
    "movie_id = 4\n",
    "\n",
    "similar_ids = find_similar_movies(movie_id, X, k=10)\n",
    "movie_title = movie_titles[movie_id]\n",
    "\n",
    "print(f\"Since you watched {movie_title}\")\n",
    "for i in similar_ids:\n",
    "\tprint(movie_titles[i])\n"
   ]
  },
  {
   "cell_type": "markdown",
   "metadata": {},
   "source": [
    "Đề xuất phim liên quan đến sở thích của người dùng"
   ]
  },
  {
   "cell_type": "code",
   "execution_count": 49,
   "metadata": {},
   "outputs": [],
   "source": [
    "def recommend_movies_for_user(user_id, X, user_mapper, movie_mapper, movie_inv_mapper, k=10):\n",
    "\tdf1 = ratings[ratings['userId'] == user_id]\n",
    "\t\n",
    "\tif df1.empty:\n",
    "\t\tprint(f\"User with ID {user_id} does not exist.\")\n",
    "\t\treturn\n",
    "\n",
    "\tmovie_id = df1[df1['rating'] == max(df1['rating'])]['movieId'].iloc[0]\n",
    "\n",
    "\tmovie_titles = dict(zip(movies['movieId'], movies['title']))\n",
    "\n",
    "\tsimilar_ids = find_similar_movies(movie_id, X, k)\n",
    "\tmovie_title = movie_titles.get(movie_id, \"Movie not found\")\n",
    "\n",
    "\tif movie_title == \"Movie not found\":\n",
    "\t\tprint(f\"Movie with ID {movie_id} not found.\")\n",
    "\t\treturn\n",
    "\n",
    "\tprint(f\"Since you watched {movie_title}, you might also like:\")\n",
    "\tfor i in similar_ids:\n",
    "\t\tprint(movie_titles.get(i, \"Movie not found\"))\n"
   ]
  },
  {
   "cell_type": "markdown",
   "metadata": {},
   "source": [
    "Giới thiệu phim"
   ]
  },
  {
   "cell_type": "code",
   "execution_count": 50,
   "metadata": {},
   "outputs": [
    {
     "name": "stdout",
     "output_type": "stream",
     "text": [
      "Since you watched Twelve Monkeys (a.k.a. 12 Monkeys) (1995), you might also like:\n",
      "Pulp Fiction (1994)\n",
      "Terminator 2: Judgment Day (1991)\n",
      "Independence Day (a.k.a. ID4) (1996)\n",
      "Seven (a.k.a. Se7en) (1995)\n",
      "Fargo (1996)\n",
      "Fugitive, The (1993)\n",
      "Usual Suspects, The (1995)\n",
      "Jurassic Park (1993)\n",
      "Star Wars: Episode IV - A New Hope (1977)\n",
      "Heat (1995)\n"
     ]
    }
   ],
   "source": [
    "user_id = 150 # Replace with the desired user ID\n",
    "recommend_movies_for_user(user_id, X, user_mapper, movie_mapper, movie_inv_mapper, k=10)\n"
   ]
  },
  {
   "cell_type": "code",
   "execution_count": 51,
   "metadata": {},
   "outputs": [
    {
     "name": "stdout",
     "output_type": "stream",
     "text": [
      "User with ID 2300 does not exist.\n"
     ]
    }
   ],
   "source": [
    "user_id = 2300 # Replace with the desired user ID\n",
    "recommend_movies_for_user(user_id, X, user_mapper, movie_mapper, movie_inv_mapper, k=10)\n"
   ]
  }
 ],
 "metadata": {
  "kernelspec": {
   "display_name": "Python 3",
   "language": "python",
   "name": "python3"
  },
  "language_info": {
   "codemirror_mode": {
    "name": "ipython",
    "version": 3
   },
   "file_extension": ".py",
   "mimetype": "text/x-python",
   "name": "python",
   "nbconvert_exporter": "python",
   "pygments_lexer": "ipython3",
   "version": "3.10.11"
  }
 },
 "nbformat": 4,
 "nbformat_minor": 2
}
