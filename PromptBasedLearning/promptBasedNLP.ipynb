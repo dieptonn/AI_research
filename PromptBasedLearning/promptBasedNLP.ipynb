{
 "cells": [
  {
   "cell_type": "code",
   "execution_count": 39,
   "metadata": {},
   "outputs": [],
   "source": [
    "from openprompt.data_utils import InputExample\n",
    "classes = [\n",
    "    \"Learning\",\n",
    "    \"Sports\",\n",
    "    \"Health\",\n",
    "]\n",
    "dataset = [\n",
    "    InputExample(\n",
    "        guid=0,\n",
    "        text_a=\"football is a really popular in many countries.\",\n",
    "    ),\n",
    "    InputExample(\n",
    "        guid=1,\n",
    "        text_a=\"Coronavirus is an infectious disease.\",\n",
    "    ),\n",
    "    InputExample(\n",
    "        guid=2,\n",
    "        text_a=\"It's common to get hurt while doing stunts.\",\n",
    "    ),\n",
    "    InputExample(\n",
    "        guid=3,\n",
    "        text_a=\"Machine learning is an important part of artificial intelligence.\",\n",
    "    ),\n",
    "    InputExample(\n",
    "        guid=4,\n",
    "        text_a=\"School is where students come to study.\",\n",
    "    )\n",
    "]"
   ]
  },
  {
   "cell_type": "code",
   "execution_count": 40,
   "metadata": {},
   "outputs": [],
   "source": [
    "from openprompt.plms import load_plm\n",
    "plm, tokenizer, model_config, WrapperClass = load_plm(\n",
    "    \"roberta\", \"roberta-base\")"
   ]
  },
  {
   "cell_type": "code",
   "execution_count": 41,
   "metadata": {},
   "outputs": [],
   "source": [
    "from openprompt.prompts import ManualTemplate\n",
    "promptTemplate = ManualTemplate(\n",
    "    text='{\"placeholder\":\"text_a\"} The topic is {\"mask\"}',\n",
    "    tokenizer=tokenizer,\n",
    ")"
   ]
  },
  {
   "cell_type": "code",
   "execution_count": 42,
   "metadata": {},
   "outputs": [],
   "source": [
    "from openprompt.prompts import ManualVerbalizer\n",
    "promptVerbalizer = ManualVerbalizer(\n",
    "    classes=classes,\n",
    "    label_words={\n",
    "        \"Health\": [\"Medicine\"],\n",
    "        \"Sports\": [\"Game\", \"Play\"],\n",
    "        \"Learning\": [\"Study\", \"learning\"],\n",
    "    }, # type: ignore\n",
    "    tokenizer=tokenizer,\n",
    ")"
   ]
  },
  {
   "cell_type": "code",
   "execution_count": 43,
   "metadata": {},
   "outputs": [],
   "source": [
    "from openprompt import PromptForClassification\n",
    "promptModel = PromptForClassification(\n",
    "    template=promptTemplate,\n",
    "    plm=plm, # type: ignore\n",
    "    verbalizer=promptVerbalizer,\n",
    ")"
   ]
  },
  {
   "cell_type": "code",
   "execution_count": 44,
   "metadata": {},
   "outputs": [
    {
     "name": "stderr",
     "output_type": "stream",
     "text": [
      "tokenizing: 5it [00:00, 474.29it/s]\n"
     ]
    }
   ],
   "source": [
    "from openprompt import PromptDataLoader\n",
    "data_loader = PromptDataLoader(\n",
    "    dataset=dataset,\n",
    "    tokenizer=tokenizer,\n",
    "    template=promptTemplate,\n",
    "    tokenizer_wrapper_class=WrapperClass,\n",
    ")"
   ]
  },
  {
   "cell_type": "code",
   "execution_count": 45,
   "metadata": {},
   "outputs": [
    {
     "name": "stdout",
     "output_type": "stream",
     "text": [
      "football is a really popular in many countries. The topic is Sports\n",
      "Coronavirus is an infectious disease. The topic is Health\n",
      "It's common to get hurt while doing stunts. The topic is Health\n",
      "Machine learning is an important part of artificial intelligence. The topic is Learning\n",
      "School is where students come to study. The topic is Learning\n"
     ]
    }
   ],
   "source": [
    "import torch\n",
    "\n",
    "promptModel.eval()\n",
    "with torch.no_grad():\n",
    "    for batch in data_loader:\n",
    "        logits = promptModel(batch)\n",
    "        preds = torch.argmax(logits, dim=-1)\n",
    "        print(tokenizer.decode(batch['input_ids'][0],\n",
    "              skip_special_tokens=True), classes[preds])"
   ]
  }
 ],
 "metadata": {
  "kernelspec": {
   "display_name": "Python 3",
   "language": "python",
   "name": "python3"
  },
  "language_info": {
   "codemirror_mode": {
    "name": "ipython",
    "version": 3
   },
   "file_extension": ".py",
   "mimetype": "text/x-python",
   "name": "python",
   "nbconvert_exporter": "python",
   "pygments_lexer": "ipython3",
   "version": "3.10.11"
  },
  "orig_nbformat": 4
 },
 "nbformat": 4,
 "nbformat_minor": 2
}
